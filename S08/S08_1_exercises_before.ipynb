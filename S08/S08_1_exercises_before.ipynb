{
 "cells": [
  {
   "cell_type": "markdown",
   "metadata": {},
   "source": [
    "# Text classification\n",
    "\n",
    "Using the dataset `dataset_emails.csv` (or other dataset of your choice) create three text classificators:\n",
    "* Using rule-based approach (regex)\n",
    "* Using naive-bayes\n",
    "* Using Spacy 3 \n",
    "\n",
    "Finally, compare the results and show what is better and why. "
   ]
  },
  {
   "cell_type": "code",
   "execution_count": 4,
   "metadata": {},
   "outputs": [
    {
     "name": "stdout",
     "output_type": "stream",
     "text": [
      "Text: This email reminds me of a vacation I took last year. Can you show me pictures from that trip?\n",
      "Label: vacation\n",
      "__\n"
     ]
    }
   ],
   "source": [
    "import csv\n",
    "import re\n",
    "#Text classification using rule-based approach (Regular Expressions)\n",
    "\n",
    "with open('dataset_emails.csv', 'r') as file:\n",
    "    reader = csv.reader(file)\n",
    "    for row in reader:\n",
    "        text = row[0]\n",
    "        label = 'unknown'\n",
    "\n",
    "        #we apply regular expressions to classify the text\n",
    "        if re.search(r'vacation',text):\n",
    "            label = 'vacation'\n",
    "        elif re.search(r'pictures',text):\n",
    "            label = 'picture-related'\n",
    "        elif re.search(r'pictures',text):\n",
    "            label = 'urgent'\n",
    "\n",
    "    #Print the classified text and the label\n",
    "    print(f'Text: {text}')\n",
    "    print(f'Label: {label}')\n",
    "    print('__')"
   ]
  }
 ],
 "metadata": {
  "kernelspec": {
   "display_name": "base",
   "language": "python",
   "name": "python3"
  },
  "language_info": {
   "codemirror_mode": {
    "name": "ipython",
    "version": 3
   },
   "file_extension": ".py",
   "mimetype": "text/x-python",
   "name": "python",
   "nbconvert_exporter": "python",
   "pygments_lexer": "ipython3",
   "version": "3.11.5"
  }
 },
 "nbformat": 4,
 "nbformat_minor": 2
}
