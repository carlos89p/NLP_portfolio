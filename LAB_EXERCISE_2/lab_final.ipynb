{
 "cells": [
  {
   "cell_type": "code",
   "execution_count": null,
   "metadata": {},
   "outputs": [],
   "source": [
    "import pandas as pd\n",
    "import numpy as np\n",
    "import tensorflow as tf\n",
    "import matplotlib.pyplot as plt\n",
    "from tensorflow.keras.preprocessing.text import Tokenizer\n",
    "from tensorflow.keras.preprocessing.sequence import pad_sequences\n",
    "from sklearn.preprocessing import LabelEncoder\n",
    "\n",
    "# Cargar los datos de entrenamiento y validación\n",
    "train_file = 'sent_train.csv'\n",
    "valid_file = 'sent_valid.csv'\n",
    "\n",
    "df_train = pd.read_csv(train_file)\n",
    "df_valid = pd.read_csv(valid_file)\n",
    "\n",
    "# Mostrar información sobre los datos\n",
    "print(\"Train dataset:\")\n",
    "print(df_train.head())\n",
    "print(df_train.info())\n",
    "print(\"Valid dataset:\")\n",
    "print(df_valid.head())\n",
    "print(df_valid.info())\n",
    "\n",
    "# Diccionario de etiquetas\n",
    "sentiments = {\n",
    "    \"LABEL_0\": \"Bearish\", \n",
    "    \"LABEL_1\": \"Bullish\", \n",
    "    \"LABEL_2\": \"Neutral\"\n",
    "}\n",
    "\n",
    "# Convertir etiquetas de texto a números\n",
    "label_encoder = LabelEncoder()\n",
    "df_train['label_encoded'] = label_encoder.fit_transform(df_train['label'])\n",
    "df_valid['label_encoded'] = label_encoder.transform(df_valid['label'])\n"
   ]
  }
 ],
 "metadata": {
  "language_info": {
   "name": "python"
  }
 },
 "nbformat": 4,
 "nbformat_minor": 2
}
