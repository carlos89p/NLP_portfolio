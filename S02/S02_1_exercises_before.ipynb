{
 "cells": [
  {
   "cell_type": "markdown",
   "metadata": {},
   "source": [
    "# Exercises start\n",
    "\n",
    "Please solve this exercises. Do it **WITHOUT ANY AI HELP**."
   ]
  },
  {
   "cell_type": "code",
   "execution_count": null,
   "metadata": {},
   "outputs": [],
   "source": [
    "# Exercise 1: Make Plurals\n",
    "# Write a program to generate plural forms of English nouns from a given list of singular nouns.\n",
    "# Simplification rules:\n",
    "# 1. Add 's' to most words (e.g., \"cat\" -> \"cats\").\n",
    "# 2. If the word ends with 'y' and is preceded by a consonant, replace 'y' with 'ies' (e.g., \"baby\" -> \"babies\").\n",
    "# 3. If the word ends with 'f' or 'fe', replace it with 'ves' (e.g., \"wolf\" -> \"wolves\").\n",
    "# 4. Add 'es' to words ending in 's', 'x', 'z', 'ch', or 'sh' (e.g., \"box\" -> \"boxes\").\n",
    "# 5. For irregular nouns, handle exceptions (e.g., \"child\" -> \"children\", \"man\" -> \"men\").\n",
    "\n",
    "nouns = [\"cat\", \"baby\", \"wolf\", \"box\", \"child\", \"man\", \"mouse\", \"knife\", \"bush\"]\n",
    "\n",
    "\n",
    "\n",
    "\n"
   ]
  },
  {
   "cell_type": "code",
   "execution_count": null,
   "metadata": {},
   "outputs": [
    {
     "name": "stdout",
     "output_type": "stream",
     "text": [
      "the emails in the string are: ['support@example.com', 'sales@example.org', 'admin123@example.net']\n"
     ]
    }
   ],
   "source": [
    "# Exercise 2: Extract Email Addresses\n",
    "# Write a Python program to extract all email addresses from the following string.\n",
    "text = \"Please contact us at support@example.com, sales@example.org, or admin123@example.net for assistance.\"\n",
    "\n",
    "import re\n",
    "# Regular expression pattern for extracting email addresses\n",
    "pattern = r'\\b[A-Za-z0-9._%+-]+@[A-Za-z0-9.-]+\\.[A-Z|a-z]{2,}\\b' \n",
    "\n",
    "# Find all email addresses in the text\n",
    "emails = re.findall(pattern, text)\n",
    "\n",
    "print(\"the emails in the string are:\", emails)"
   ]
  },
  {
   "cell_type": "code",
   "execution_count": 7,
   "metadata": {},
   "outputs": [
    {
     "name": "stdout",
     "output_type": "stream",
     "text": [
      "The list of hasthags in the strings are: ['#sunset', '#beach', '#123abc', '#double', '#invalid', '#tags']\n"
     ]
    }
   ],
   "source": [
    "\n",
    "# Exercise 3: Extract Hashtags\n",
    "# From a tweet, extract all valid hashtags.\n",
    "tweet = \"Loving the #sunset at the #beach! But #123abc and ##double are #invalid#tags.\"\n",
    "\n",
    "import re\n",
    "# Regular expression to extract hashtag\n",
    "pattern = r'#\\w+' #Filters the words that starts with hashtag\n",
    "\n",
    "# Find all hashtags in the tweet\n",
    "hashtag_words = re.findall(pattern, tweet)\n",
    "\n",
    "print(\"The list of hasthags in the strings are:\", hashtag_words)"
   ]
  }
 ],
 "metadata": {
  "kernelspec": {
   "display_name": "base",
   "language": "python",
   "name": "python3"
  },
  "language_info": {
   "codemirror_mode": {
    "name": "ipython",
    "version": 3
   },
   "file_extension": ".py",
   "mimetype": "text/x-python",
   "name": "python",
   "nbconvert_exporter": "python",
   "pygments_lexer": "ipython3",
   "version": "3.11.5"
  }
 },
 "nbformat": 4,
 "nbformat_minor": 2
}
