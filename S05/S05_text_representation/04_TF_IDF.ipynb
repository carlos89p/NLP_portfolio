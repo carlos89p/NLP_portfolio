{
 "cells": [
  {
   "cell_type": "markdown",
   "metadata": {
    "colab_type": "text",
    "id": "QE4VO40Gbl1U"
   },
   "source": [
    "## TF-IDF\n",
    "\n",
    "In all the other approaches we saw so far, all the words in the text are treated equally important. There is no notion of some words in the document being more important than others. TF-IDF addresses this issue. It aims to quantify the importance of a given word relative to other words in the document and in the corpus. It was commonly used representation scheme for information retrieval systems, for extracting relevant documents from a corpus for given text query. \n",
    "\n",
    "This notebook shows a simple example of how to get the TF-IDF representation of a document using sklearn's TfidfVectorizer. "
   ]
  },
  {
   "cell_type": "code",
   "execution_count": 6,
   "metadata": {},
   "outputs": [
    {
     "name": "stdout",
     "output_type": "stream",
     "text": [
      "Collecting scikit-learn==0.21.3\n",
      "  Using cached scikit-learn-0.21.3.tar.gz (12.2 MB)\n",
      "  Preparing metadata (setup.py) ... \u001b[?25ldone\n",
      "\u001b[?25hRequirement already satisfied: numpy>=1.11.0 in /Users/carlosillanaldariz/miniconda3/lib/python3.11/site-packages (from scikit-learn==0.21.3) (2.2.2)\n",
      "Requirement already satisfied: scipy>=0.17.0 in /Users/carlosillanaldariz/miniconda3/lib/python3.11/site-packages (from scikit-learn==0.21.3) (1.15.1)\n",
      "Requirement already satisfied: joblib>=0.11 in /Users/carlosillanaldariz/miniconda3/lib/python3.11/site-packages (from scikit-learn==0.21.3) (1.3.2)\n",
      "Building wheels for collected packages: scikit-learn\n",
      "  Building wheel for scikit-learn (setup.py) ... \u001b[?25lerror\n",
      "  \u001b[1;31merror\u001b[0m: \u001b[1msubprocess-exited-with-error\u001b[0m\n",
      "  \n",
      "  \u001b[31m×\u001b[0m \u001b[32mpython setup.py bdist_wheel\u001b[0m did not run successfully.\n",
      "  \u001b[31m│\u001b[0m exit code: \u001b[1;36m1\u001b[0m\n",
      "  \u001b[31m╰─>\u001b[0m \u001b[31m[69 lines of output]\u001b[0m\n",
      "  \u001b[31m   \u001b[0m /private/var/folders/x9/s464tr3n2ng8_s8c_5cxv5800000gn/T/pip-install-ivcufv80/scikit-learn_d90d0a3e7f5949b7b5ff80d1bfe8bf5f/setup.py:12: DeprecationWarning: pkg_resources is deprecated as an API. See https://setuptools.pypa.io/en/latest/pkg_resources.html\n",
      "  \u001b[31m   \u001b[0m   from pkg_resources import parse_version\n",
      "  \u001b[31m   \u001b[0m Partial import of sklearn during the build process.\n",
      "  \u001b[31m   \u001b[0m /private/var/folders/x9/s464tr3n2ng8_s8c_5cxv5800000gn/T/pip-install-ivcufv80/scikit-learn_d90d0a3e7f5949b7b5ff80d1bfe8bf5f/setup.py:122: DeprecationWarning:\n",
      "  \u001b[31m   \u001b[0m \n",
      "  \u001b[31m   \u001b[0m   `numpy.distutils` is deprecated since NumPy 1.23.0, as a result\n",
      "  \u001b[31m   \u001b[0m   of the deprecation of `distutils` itself. It will be removed for\n",
      "  \u001b[31m   \u001b[0m   Python >= 3.12. For older Python versions it will remain present.\n",
      "  \u001b[31m   \u001b[0m   It is recommended to use `setuptools < 60.0` for those Python versions.\n",
      "  \u001b[31m   \u001b[0m   For more details, see:\n",
      "  \u001b[31m   \u001b[0m     https://numpy.org/devdocs/reference/distutils_status_migration.html\n",
      "  \u001b[31m   \u001b[0m \n",
      "  \u001b[31m   \u001b[0m \n",
      "  \u001b[31m   \u001b[0m   from numpy.distutils.command.build_ext import build_ext  # noqa\n",
      "  \u001b[31m   \u001b[0m INFO: C compiler: clang -DNDEBUG -fwrapv -O2 -Wall -fPIC -O2 -isystem /Users/carlosillanaldariz/miniconda3/include -arch arm64 -fPIC -O2 -isystem /Users/carlosillanaldariz/miniconda3/include -arch arm64\n",
      "  \u001b[31m   \u001b[0m \n",
      "  \u001b[31m   \u001b[0m INFO: compile options: '-c'\n",
      "  \u001b[31m   \u001b[0m extra options: '-fopenmp'\n",
      "  \u001b[31m   \u001b[0m INFO: clang: test_openmp.c\n",
      "  \u001b[31m   \u001b[0m clang: error: unsupported option '-fopenmp'\n",
      "  \u001b[31m   \u001b[0m Traceback (most recent call last):\n",
      "  \u001b[31m   \u001b[0m   File \"<string>\", line 2, in <module>\n",
      "  \u001b[31m   \u001b[0m   File \"<pip-setuptools-caller>\", line 34, in <module>\n",
      "  \u001b[31m   \u001b[0m   File \"/private/var/folders/x9/s464tr3n2ng8_s8c_5cxv5800000gn/T/pip-install-ivcufv80/scikit-learn_d90d0a3e7f5949b7b5ff80d1bfe8bf5f/setup.py\", line 290, in <module>\n",
      "  \u001b[31m   \u001b[0m     setup_package()\n",
      "  \u001b[31m   \u001b[0m   File \"/private/var/folders/x9/s464tr3n2ng8_s8c_5cxv5800000gn/T/pip-install-ivcufv80/scikit-learn_d90d0a3e7f5949b7b5ff80d1bfe8bf5f/setup.py\", line 286, in setup_package\n",
      "  \u001b[31m   \u001b[0m     setup(**metadata)\n",
      "  \u001b[31m   \u001b[0m   File \"/Users/carlosillanaldariz/miniconda3/lib/python3.11/site-packages/numpy/distutils/core.py\", line 135, in setup\n",
      "  \u001b[31m   \u001b[0m     config = configuration()\n",
      "  \u001b[31m   \u001b[0m              ^^^^^^^^^^^^^^^\n",
      "  \u001b[31m   \u001b[0m   File \"/private/var/folders/x9/s464tr3n2ng8_s8c_5cxv5800000gn/T/pip-install-ivcufv80/scikit-learn_d90d0a3e7f5949b7b5ff80d1bfe8bf5f/setup.py\", line 174, in configuration\n",
      "  \u001b[31m   \u001b[0m     config.add_subpackage('sklearn')\n",
      "  \u001b[31m   \u001b[0m   File \"/Users/carlosillanaldariz/miniconda3/lib/python3.11/site-packages/numpy/distutils/misc_util.py\", line 1041, in add_subpackage\n",
      "  \u001b[31m   \u001b[0m     config_list = self.get_subpackage(subpackage_name, subpackage_path,\n",
      "  \u001b[31m   \u001b[0m                   ^^^^^^^^^^^^^^^^^^^^^^^^^^^^^^^^^^^^^^^^^^^^^^^^^^^^^\n",
      "  \u001b[31m   \u001b[0m   File \"/Users/carlosillanaldariz/miniconda3/lib/python3.11/site-packages/numpy/distutils/misc_util.py\", line 1007, in get_subpackage\n",
      "  \u001b[31m   \u001b[0m     config = self._get_configuration_from_setup_py(\n",
      "  \u001b[31m   \u001b[0m              ^^^^^^^^^^^^^^^^^^^^^^^^^^^^^^^^^^^^^^\n",
      "  \u001b[31m   \u001b[0m   File \"/Users/carlosillanaldariz/miniconda3/lib/python3.11/site-packages/numpy/distutils/misc_util.py\", line 949, in _get_configuration_from_setup_py\n",
      "  \u001b[31m   \u001b[0m     config = setup_module.configuration(*args)\n",
      "  \u001b[31m   \u001b[0m              ^^^^^^^^^^^^^^^^^^^^^^^^^^^^^^^^^\n",
      "  \u001b[31m   \u001b[0m   File \"/private/var/folders/x9/s464tr3n2ng8_s8c_5cxv5800000gn/T/pip-install-ivcufv80/scikit-learn_d90d0a3e7f5949b7b5ff80d1bfe8bf5f/sklearn/setup.py\", line 76, in configuration\n",
      "  \u001b[31m   \u001b[0m     maybe_cythonize_extensions(top_path, config)\n",
      "  \u001b[31m   \u001b[0m   File \"/private/var/folders/x9/s464tr3n2ng8_s8c_5cxv5800000gn/T/pip-install-ivcufv80/scikit-learn_d90d0a3e7f5949b7b5ff80d1bfe8bf5f/sklearn/_build_utils/__init__.py\", line 42, in maybe_cythonize_extensions\n",
      "  \u001b[31m   \u001b[0m     with_openmp = check_openmp_support()\n",
      "  \u001b[31m   \u001b[0m                   ^^^^^^^^^^^^^^^^^^^^^^\n",
      "  \u001b[31m   \u001b[0m   File \"/private/var/folders/x9/s464tr3n2ng8_s8c_5cxv5800000gn/T/pip-install-ivcufv80/scikit-learn_d90d0a3e7f5949b7b5ff80d1bfe8bf5f/sklearn/_build_utils/openmp_helpers.py\", line 140, in check_openmp_support\n",
      "  \u001b[31m   \u001b[0m     raise CompileError(err_message)\n",
      "  \u001b[31m   \u001b[0m distutils.errors.CompileError:\n",
      "  \u001b[31m   \u001b[0m                     ***\n",
      "  \u001b[31m   \u001b[0m \n",
      "  \u001b[31m   \u001b[0m It seems that scikit-learn cannot be built with OpenMP support.\n",
      "  \u001b[31m   \u001b[0m \n",
      "  \u001b[31m   \u001b[0m - Make sure you have followed the installation instructions:\n",
      "  \u001b[31m   \u001b[0m \n",
      "  \u001b[31m   \u001b[0m     https://scikit-learn.org/dev/developers/advanced_installation.html\n",
      "  \u001b[31m   \u001b[0m \n",
      "  \u001b[31m   \u001b[0m - If your compiler supports OpenMP but the build still fails, please\n",
      "  \u001b[31m   \u001b[0m   submit a bug report at:\n",
      "  \u001b[31m   \u001b[0m \n",
      "  \u001b[31m   \u001b[0m     https://github.com/scikit-learn/scikit-learn/issues\n",
      "  \u001b[31m   \u001b[0m \n",
      "  \u001b[31m   \u001b[0m - If you want to build scikit-learn without OpenMP support, you can set\n",
      "  \u001b[31m   \u001b[0m   the environment variable SKLEARN_NO_OPENMP and rerun the build\n",
      "  \u001b[31m   \u001b[0m   command. Note however that some estimators will run in sequential\n",
      "  \u001b[31m   \u001b[0m   mode and their `n_jobs` parameter will have no effect anymore.\n",
      "  \u001b[31m   \u001b[0m \n",
      "  \u001b[31m   \u001b[0m                     ***\n",
      "  \u001b[31m   \u001b[0m \n",
      "  \u001b[31m   \u001b[0m \u001b[31m[end of output]\u001b[0m\n",
      "  \n",
      "  \u001b[1;35mnote\u001b[0m: This error originates from a subprocess, and is likely not a problem with pip.\n",
      "\u001b[31m  ERROR: Failed building wheel for scikit-learn\u001b[0m\u001b[31m\n",
      "\u001b[0m\u001b[?25h  Running setup.py clean for scikit-learn\n",
      "Failed to build scikit-learn\n",
      "\u001b[31mERROR: Failed to build installable wheels for some pyproject.toml based projects (scikit-learn)\u001b[0m\u001b[31m\n",
      "\u001b[0m"
     ]
    }
   ],
   "source": [
    "# To install only the requirements of this notebook, uncomment the lines below and run this cell\n",
    "\n",
    "# ===========================\n",
    "\n",
    "!pip install scikit-learn==0.21.3\n",
    "\n",
    "# ==========================="
   ]
  },
  {
   "cell_type": "code",
   "execution_count": 10,
   "metadata": {},
   "outputs": [
    {
     "name": "stdout",
     "output_type": "stream",
     "text": [
      "\u001b[31mERROR: Could not open requirements file: [Errno 2] No such file or directory: 'ch3-requirements.txt'\u001b[0m\u001b[31m\n",
      "\u001b[0m"
     ]
    }
   ],
   "source": [
    "# To install the requirements for the entire chapter, uncomment the lines below and run this cell\n",
    "\n",
    "# ===========================\n",
    "\n",
    "try :\n",
    "    import google.colab\n",
    "    !curl https://raw.githubusercontent.com/practical-nlp/practical-nlp/master/Ch3/ch3-requirements.txt | xargs -n 1 -L 1 pip install\n",
    "except ModuleNotFoundError :\n",
    "    !pip install -r \"ch3-requirements.txt\"\n",
    "\n",
    "# ==========================="
   ]
  },
  {
   "cell_type": "code",
   "execution_count": 8,
   "metadata": {
    "colab": {
     "base_uri": "https://localhost:8080/",
     "height": 35
    },
    "colab_type": "code",
    "id": "5S4Ircomar27",
    "outputId": "085cac58-e2d6-4a1e-f0aa-f7f5d73ba7ef"
   },
   "outputs": [
    {
     "data": {
      "text/plain": [
       "['dog bites man', 'man bites dog', 'dog eats meat', 'man eats food']"
      ]
     },
     "execution_count": 8,
     "metadata": {},
     "output_type": "execute_result"
    }
   ],
   "source": [
    "documents = [\"Dog bites man.\", \"Man bites dog.\", \"Dog eats meat.\", \"Man eats food.\"]\n",
    "processed_docs = [doc.lower().replace(\".\",\"\") for doc in documents]\n",
    "processed_docs"
   ]
  },
  {
   "cell_type": "code",
   "execution_count": 9,
   "metadata": {
    "colab": {
     "base_uri": "https://localhost:8080/",
     "height": 230
    },
    "colab_type": "code",
    "id": "BRjyqt4Ba2zx",
    "outputId": "9835422d-8ea9-4028-f31c-ac3493f224d7"
   },
   "outputs": [
    {
     "name": "stdout",
     "output_type": "stream",
     "text": [
      "IDF for all words in the vocabulary [1.51082562 1.22314355 1.51082562 1.91629073 1.22314355 1.91629073]\n",
      "----------\n"
     ]
    },
    {
     "ename": "AttributeError",
     "evalue": "'TfidfVectorizer' object has no attribute 'get_feature_names'",
     "output_type": "error",
     "traceback": [
      "\u001b[0;31m---------------------------------------------------------------------------\u001b[0m",
      "\u001b[0;31mAttributeError\u001b[0m                            Traceback (most recent call last)",
      "Cell \u001b[0;32mIn[9], line 10\u001b[0m\n\u001b[1;32m      8\u001b[0m \u001b[38;5;28mprint\u001b[39m(\u001b[38;5;124m\"\u001b[39m\u001b[38;5;124m-\u001b[39m\u001b[38;5;124m\"\u001b[39m\u001b[38;5;241m*\u001b[39m\u001b[38;5;241m10\u001b[39m)\n\u001b[1;32m      9\u001b[0m \u001b[38;5;66;03m#All words in the vocabulary.\u001b[39;00m\n\u001b[0;32m---> 10\u001b[0m \u001b[38;5;28mprint\u001b[39m(\u001b[38;5;124m\"\u001b[39m\u001b[38;5;124mAll words in the vocabulary\u001b[39m\u001b[38;5;124m\"\u001b[39m,\u001b[43mtfidf\u001b[49m\u001b[38;5;241;43m.\u001b[39;49m\u001b[43mget_feature_names\u001b[49m())\n\u001b[1;32m     11\u001b[0m \u001b[38;5;28mprint\u001b[39m(\u001b[38;5;124m\"\u001b[39m\u001b[38;5;124m-\u001b[39m\u001b[38;5;124m\"\u001b[39m\u001b[38;5;241m*\u001b[39m\u001b[38;5;241m10\u001b[39m)\n\u001b[1;32m     13\u001b[0m \u001b[38;5;66;03m#TFIDF representation for all documents in our corpus \u001b[39;00m\n",
      "\u001b[0;31mAttributeError\u001b[0m: 'TfidfVectorizer' object has no attribute 'get_feature_names'"
     ]
    }
   ],
   "source": [
    "from sklearn.feature_extraction.text import TfidfVectorizer\n",
    "\n",
    "tfidf = TfidfVectorizer()\n",
    "bow_rep_tfidf = tfidf.fit_transform(processed_docs)\n",
    "\n",
    "#IDF for all words in the vocabulary\n",
    "print(\"IDF for all words in the vocabulary\",tfidf.idf_)\n",
    "print(\"-\"*10)\n",
    "#All words in the vocabulary.\n",
    "print(\"All words in the vocabulary\",tfidf.get_feature_names())\n",
    "print(\"-\"*10)\n",
    "\n",
    "#TFIDF representation for all documents in our corpus \n",
    "print(\"TFIDF representation for all documents in our corpus\\n\",bow_rep_tfidf.toarray()) \n",
    "print(\"-\"*10)\n",
    "\n",
    "temp = tfidf.transform([\"dog and man are friends\"])\n",
    "print(\"Tfidf representation for 'dog and man are friends':\\n\", temp.toarray())"
   ]
  }
 ],
 "metadata": {
  "colab": {
   "collapsed_sections": [],
   "name": "TF-IDF.ipynb",
   "provenance": []
  },
  "kernelspec": {
   "display_name": "base",
   "language": "python",
   "name": "python3"
  },
  "language_info": {
   "codemirror_mode": {
    "name": "ipython",
    "version": 3
   },
   "file_extension": ".py",
   "mimetype": "text/x-python",
   "name": "python",
   "nbconvert_exporter": "python",
   "pygments_lexer": "ipython3",
   "version": "3.11.5"
  }
 },
 "nbformat": 4,
 "nbformat_minor": 1
}
