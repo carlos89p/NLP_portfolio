{
 "cells": [
  {
   "cell_type": "markdown",
   "metadata": {},
   "source": [
    "# Exercises before\n",
    "\n",
    "Create a corpus with phrases and annotate it with positive or negative. Build a very simple sentiment analysis with regex and use corpus to calculate sentiment (positive or negative). Count how many True Positives (TP), False Positives (FP), True Negatives (TN), and False Negatives (FN) you have. Tweet the corpus or the regexp to have non-zero variables. Make the calculations of Precission, Recall, and F1 following the class materials.   "
   ]
  },
  {
   "cell_type": "code",
   "execution_count": 6,
   "metadata": {},
   "outputs": [
    {
     "name": "stdout",
     "output_type": "stream",
     "text": [
      "True Positives (TP): 3\n",
      "False Positives (FP): 0\n",
      "True Negatives (TN): 3\n",
      "False Negatives (FN): 0\n",
      "Precision: 1.00\n",
      "Recall: 1.00\n",
      "F1 Score: 1.00\n"
     ]
    }
   ],
   "source": [
    "import re\n",
    "\n",
    "# Create a corpus with phrases and annotate it with positive or negative\n",
    "corpus = [\n",
    "    (\"I love this product, it is amazing!\", \"positive\"),\n",
    "    (\"This is the worst thing I have ever bought.\", \"negative\"),\n",
    "    (\"Absolutely fantastic! Highly recommend.\", \"positive\"),\n",
    "    (\"Not worth the money.\", \"negative\"),\n",
    "    (\"I am very happy with this purchase.\", \"positive\"),\n",
    "    (\"Terrible experience, will not buy again.\", \"negative\")\n",
    "]\n",
    "\n",
    "# Define simple regex-based sentiment analysis\n",
    "positive_regex = re.compile(r'\\blove\\b|\\bamazing\\b|\\bfantastic\\b|\\brecommend\\b|\\bhappy\\b', re.IGNORECASE)\n",
    "negative_regex = re.compile(r'\\bworst\\b|\\bnot worth\\b|\\bterrible\\b', re.IGNORECASE)\n",
    "\n",
    "# Initialize counters for TP, FP, TN, FN\n",
    "TP = FP = TN = FN = 0\n",
    "\n",
    "# Perform sentiment analysis and count TP, FP, TN, FN\n",
    "for phrase, actual_sentiment in corpus:\n",
    "    predicted_sentiment = \"positive\" if positive_regex.search(phrase) else \"negative\" if negative_regex.search(phrase) else \"neutral\"\n",
    "    \n",
    "    if predicted_sentiment == \"positive\" and actual_sentiment == \"positive\":\n",
    "        TP += 1\n",
    "    elif predicted_sentiment == \"positive\" and actual_sentiment == \"negative\":\n",
    "        FP += 1\n",
    "    elif predicted_sentiment == \"negative\" and actual_sentiment == \"negative\":\n",
    "        TN += 1\n",
    "    elif predicted_sentiment == \"negative\" and actual_sentiment == \"positive\":\n",
    "        FN += 1\n",
    "\n",
    "# Calculate Precision, Recall, and F1 Score\n",
    "precision = TP / (TP + FP) if (TP + FP) > 0 else 0\n",
    "recall = TP / (TP + FN) if (TP + FN) > 0 else 0\n",
    "f1_score = 2 * (precision * recall) / (precision + recall) if (precision + recall) > 0 else 0\n",
    "\n",
    "# Print results\n",
    "print(f\"True Positives (TP): {TP}\")\n",
    "print(f\"False Positives (FP): {FP}\")\n",
    "print(f\"True Negatives (TN): {TN}\")\n",
    "print(f\"False Negatives (FN): {FN}\")\n",
    "print(f\"Precision: {precision:.2f}\")\n",
    "print(f\"Recall: {recall:.2f}\")\n",
    "print(f\"F1 Score: {f1_score:.2f}\")"
   ]
  }
 ],
 "metadata": {
  "kernelspec": {
   "display_name": "base",
   "language": "python",
   "name": "python3"
  },
  "language_info": {
   "codemirror_mode": {
    "name": "ipython",
    "version": 3
   },
   "file_extension": ".py",
   "mimetype": "text/x-python",
   "name": "python",
   "nbconvert_exporter": "python",
   "pygments_lexer": "ipython3",
   "version": "3.11.5"
  }
 },
 "nbformat": 4,
 "nbformat_minor": 2
}
